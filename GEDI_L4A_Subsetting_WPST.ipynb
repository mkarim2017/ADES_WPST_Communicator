{
 "cells": [
  {
   "cell_type": "markdown",
   "id": "b3de59f1",
   "metadata": {},
   "source": [
    "# WPST Job Processing Example\n",
    "\n",
    "## Install Python Packages\n",
    "\n",
    "To run this notebook, we need to install the following Python packages, which might not already be installed in your environment:\n",
    "\n",
    "- `request`: \n"
   ]
  },
  {
   "cell_type": "code",
   "execution_count": null,
   "id": "46a78a6c",
   "metadata": {},
   "outputs": [],
   "source": []
  },
  {
   "cell_type": "markdown",
   "id": "db1afba0",
   "metadata": {},
   "source": [
    "## Create Connection with Remote Servers\n",
    "\n",
    "For this example, we will create connection to two servers running in two different system: pliedes and EKS. We will communicate with them through AWS SQS and will use two differen queues to do so.\n",
    "    "
   ]
  },
  {
   "cell_type": "code",
   "execution_count": null,
   "id": "53443a87",
   "metadata": {},
   "outputs": [],
   "source": [
    "from ADES_WPST_SQS import ADES_WPST_SQS\n",
    "\n",
    "config_file = \"./sqsconfig.py\"\n",
    "\n",
    "wpst_pbs = ADES_WPST_SQS(config_file=config_file)\n",
    "wpst_eks = ADES_WPST_SQS(config_file=config_file)\n"
   ]
  },
  {
   "cell_type": "code",
   "execution_count": null,
   "id": "d4b15ad0",
   "metadata": {},
   "outputs": [],
   "source": []
  },
  {
   "cell_type": "code",
   "execution_count": null,
   "id": "29dcd116",
   "metadata": {},
   "outputs": [],
   "source": [
    "wpst_eks.getLandingPage()"
   ]
  },
  {
   "cell_type": "markdown",
   "id": "58f1b395",
   "metadata": {},
   "source": [
    "### See Present Processess and Jobs Running"
   ]
  },
  {
   "cell_type": "code",
   "execution_count": null,
   "id": "b98864be",
   "metadata": {},
   "outputs": [],
   "source": [
    "wpst_eks.fullResult()"
   ]
  },
  {
   "cell_type": "code",
   "execution_count": null,
   "id": "03e0b812",
   "metadata": {},
   "outputs": [],
   "source": [
    "wpst_pbs.fullResult()"
   ]
  },
  {
   "cell_type": "code",
   "execution_count": null,
   "id": "c82f9025",
   "metadata": {},
   "outputs": [],
   "source": [
    "from maap.maap import MAAP\n",
    "\n",
    "maap = MAAP(maap_host=\"api.ops.maap-project.org\")\n",
    "username = maap.profile.account_info()[\"username\"]\n",
    "username"
   ]
  },
  {
   "cell_type": "markdown",
   "id": "4d2e2c82",
   "metadata": {},
   "source": [
    "## Define Area of Interest\n",
    "\n",
    "You may use either a publicly available GeoJSON file for your AOI, such as\n",
    "those available at [geoBoundaries](https://www.geoboundaries.org), or you\n",
    "may create a custom GeoJSON file for your AOI.  The following 2 subsections\n",
    "cover both cases.\n",
    "\n",
    "### Using a geoBoundary GeoJSON File\n",
    "\n",
    "If your AOI is a publicly available geoBoundary, you can obtain the URL for the\n",
    "GeoJSON file using the function below.  You simply need to supply an ISO3 value\n",
    "and a level.  To find the appropriate ISO3 and level values, see the\n",
    "[table on the geoBoundaries site](https://www.geoboundaries.org/index.html#getdata)."
   ]
  },
  {
   "cell_type": "code",
   "execution_count": null,
   "id": "579c8457",
   "metadata": {},
   "outputs": [],
   "source": [
    "import requests\n",
    "\n",
    "\n",
    "def get_geo_boundary_url(iso3: str, level: int) -> str:\n",
    "    response = requests.get(\n",
    "        f\"https://www.geoboundaries.org/api/current/gbOpen/{iso3}/ADM{level}\"\n",
    "    )\n",
    "    response.raise_for_status()\n",
    "    return response.json()[\"gjDownloadURL\"]\n",
    "\n",
    "\n",
    "# If using a geoBoundary, uncomment the following assignment, supply\n",
    "# appropriate values for `<iso3>` and `<level>`, then run this cell.\n",
    "\n",
    "# Example (Gabon level 0): get_geo_boundary(\"GAB\", 0)\n",
    "\n",
    "# aoi = get_geo_boundary_url(\"<iso3>\", <level>)"
   ]
  },
  {
   "cell_type": "markdown",
   "id": "ca1c10a1",
   "metadata": {},
   "source": [
    "### Using a Custom GeoJSON File\n",
    "\n",
    "Alternatively, you can make your own GeoJSON file for your AOI and place it\n",
    "within your `my-public-bucket` folder within the ADE.\n",
    "\n",
    "Based upon where you place your GeoJSON file under `my-public-bucket`, you can\n",
    "construct the URL for a job's `aoi` input value.\n",
    "\n",
    "For example, if the relative path of your AOI GeoJSON file under\n",
    "`my-public-bucket` is `path/to/my-aoi.geojson` (avoid using whitespace in the\n",
    "path and filename), the URL you would supply as the value of a job's `aoi`\n",
    "input would be the following (where `{username}` is replaced with your username\n",
    "as output from the previous section):\n",
    "\n",
    "```\n",
    "f\"https://maap-ops-workspace.s3.amazonaws.com/shared/{username}/path/to/my-aoi.geojson\"`\n",
    "```\n",
    "\n",
    "If this is the case, use the cell below."
   ]
  },
  {
   "cell_type": "code",
   "execution_count": null,
   "id": "008e9a92",
   "metadata": {},
   "outputs": [],
   "source": [
    "# If using a GeoJSON placed somewhere under your `my-public-bucket` folder,\n",
    "# uncomment the following assignment, adjust the path as necessary, then run\n",
    "# this cell.\n",
    "\n",
    "# aoi = f\"https://maap-ops-workspace.s3.amazonaws.com/shared/{username}/path/to/my-aoi.geojson\""
   ]
  },
  {
   "cell_type": "markdown",
   "id": "5848a797",
   "metadata": {},
   "source": [
    "## [Optional] Visually Verify your AOI\n",
    "\n",
    "If you want to visually verify your AOI before proceeding, you may run the following cell, if you have the `geopandas` and `contextily` Python packages installed."
   ]
  },
  {
   "cell_type": "code",
   "execution_count": null,
   "id": "cefb962d",
   "metadata": {},
   "outputs": [],
   "source": [
    "try:\n",
    "    import geopandas as gpd\n",
    "    import contextily as ctx\n",
    "except:\n",
    "    print(\n",
    "        \"If you wish to visually verify your AOI, \"\n",
    "        \"you must install the `geopandas` and `contextily` packages.\"\n",
    "    )\n",
    "else:\n",
    "    aoi_gdf = gpd.read_file(aoi)\n",
    "    aoi_epsg4326 = aoi_gdf.to_crs(epsg=4326)\n",
    "    ax = aoi_epsg4326.plot(figsize=(10, 5), alpha=0.3, edgecolor=\"red\")\n",
    "    ctx.add_basemap(ax, crs=4326)"
   ]
  },
  {
   "cell_type": "markdown",
   "id": "59e81be9",
   "metadata": {},
   "source": [
    "## Submit a Job\n",
    "\n",
    "When supplying input values for a GEDI subsetting job, to use the default value\n",
    "for a field (where indicated), use a dash (`\"-\"`) as the input value.\n",
    "\n",
    "- job_payload (required):\n",
    "\n",
    "- process_id (required): "
   ]
  },
  {
   "cell_type": "markdown",
   "id": "1f64fe9f",
   "metadata": {},
   "source": [
    "**Submit a Job to Pliedes**"
   ]
  },
  {
   "cell_type": "code",
   "execution_count": null,
   "id": "57d2119d",
   "metadata": {},
   "outputs": [],
   "source": [
    "process_id = \"jplzhan.gedi-subset.main-1.0.0\"\n",
    "job_payload = \"job_payload_pbs.json\"\n",
    "\n",
    "job_id = wpst_pbs.execute(process_id, job_payload)\n",
    "print(job_id)"
   ]
  },
  {
   "cell_type": "markdown",
   "id": "27cb4cb1",
   "metadata": {},
   "source": [
    "**Check Status of the Job Submitted in Pliedes**"
   ]
  },
  {
   "cell_type": "code",
   "execution_count": null,
   "id": "795ca1b2",
   "metadata": {},
   "outputs": [],
   "source": [
    "def job_status_for(process_id:str, job_id: str) -> str:\n",
    "    response = wpst_pbs.getStatus(process_id, job_id)\n",
    "    \n",
    "    print(json.dumps(response, indent=2))\n",
    "    return response[\"statusInfo\"][\"status\"]\n",
    "    \n",
    "job_status = job_status_for(process_id, job_id)\n",
    "print(job_status)"
   ]
  },
  {
   "cell_type": "markdown",
   "id": "0acf4142",
   "metadata": {},
   "source": [
    "**Submit a Job to EKS**"
   ]
  },
  {
   "cell_type": "code",
   "execution_count": null,
   "id": "b5064d84",
   "metadata": {},
   "outputs": [],
   "source": [
    "process_id = \"jplzhan.gedi-subset.main-1.0.0\"\n",
    "job_payload = \"job_payload_eks.json\"\n",
    "\n",
    "job_id = wpst_eks.execute(process_id, job_payload)\n",
    "print(job_id)"
   ]
  },
  {
   "cell_type": "markdown",
   "id": "0ef4dc2f",
   "metadata": {},
   "source": [
    "**Verify Job Status**"
   ]
  },
  {
   "cell_type": "code",
   "execution_count": null,
   "id": "5412009b",
   "metadata": {},
   "outputs": [],
   "source": [
    "import json \n",
    "def job_status_for(process_id:str, job_id: str) -> str:\n",
    "    response = wpst_eks.getStatus(process_id, job_id)\n",
    "    \n",
    "    print(json.dumps(response, indent=2))\n",
    "    return response[\"statusInfo\"][\"status\"]\n",
    "    \n",
    "job_status = job_status_for(process_id, job_id)\n",
    "print(job_status)"
   ]
  },
  {
   "cell_type": "markdown",
   "id": "c92ec25f",
   "metadata": {},
   "source": [
    "## Get the Job's Output File\n",
    "\n",
    "Now that the job has been submitted, we can use the `job_id` to check the job\n",
    "status until the job has completed."
   ]
  },
  {
   "cell_type": "code",
   "execution_count": null,
   "id": "93817e36",
   "metadata": {},
   "outputs": [],
   "source": [
    "import xml.etree.ElementTree as ET\n",
    "from urllib.parse import urlparse\n",
    "\n",
    "\n",
    "def job_status_for(job_id: str) -> str:\n",
    "    response = maap.getJobStatus(job_id)\n",
    "    response.raise_for_status()\n",
    "\n",
    "    root = ET.fromstring(response.text)\n",
    "    status_element = root.find(\".//{http://www.opengis.net/wps/2.0}Status\")\n",
    "\n",
    "    return status_element.text\n",
    "\n",
    "\n",
    "def job_result_for(job_id: str) -> str:\n",
    "    response = maap.getJobResult(job_id)\n",
    "    response.raise_for_status()\n",
    "\n",
    "    root = ET.fromstring(response.text)\n",
    "\n",
    "    return root.find(\".//{http://www.opengis.net/wps/2.0}Data\").text\n",
    "\n",
    "\n",
    "def to_job_output_dir(job_result_url: str) -> str:\n",
    "    url_path = urlparse(job_result_url).path\n",
    "    # The S3 Key is the URL path excluding the `/{username}` prefix\n",
    "    s3_key = \"/\".join(url_path.split(\"/\")[2:])\n",
    "\n",
    "    return f\"/projects/my-private-bucket/{s3_key}\""
   ]
  },
  {
   "cell_type": "markdown",
   "id": "10617d17",
   "metadata": {},
   "source": [
    "If you have installed the `backoff` Python package, running the following cell\n",
    "will automatically repeatedly check your job's status until the job has\n",
    "completed. Otherwise, you will have to manually repeatedly rerun the following\n",
    "cell until the output is either `'Suceeded'` or `'Failed'`."
   ]
  },
  {
   "cell_type": "code",
   "execution_count": null,
   "id": "449a5f83",
   "metadata": {},
   "outputs": [],
   "source": [
    "try:\n",
    "    import backoff\n",
    "except:\n",
    "    job_status = job_status_for(job_id)\n",
    "else:\n",
    "    # Check job status every 2 minutes\n",
    "    @backoff.on_predicate(\n",
    "        backoff.constant,\n",
    "        lambda status: status not in [\"Deleted\", \"Succeeded\", \"Failed\"],\n",
    "        interval=120,\n",
    "    )\n",
    "    def wait_for_job(job_id: str) -> str:\n",
    "        return job_status_for(job_id)\n",
    "\n",
    "    job_status = wait_for_job(job_id)\n",
    "\n",
    "job_status"
   ]
  },
  {
   "cell_type": "code",
   "execution_count": null,
   "id": "85aea526",
   "metadata": {},
   "outputs": [],
   "source": [
    "assert job_status == \"Succeeded\", (\n",
    "    job_result_for(job_id)\n",
    "    if job_status == \"Failed\"\n",
    "    else f\"Job {job_id} has not yet completed ({job_status}). Rerun the prior cell.\"\n",
    ")\n",
    "\n",
    "output_url = job_result_for(job_id)\n",
    "output_dir = to_job_output_dir(output_url)\n",
    "output_file = f\"{output_dir}/gedi_subset.gpkg\"\n",
    "print(f\"Your subset results are in the file {output_file}\")"
   ]
  },
  {
   "cell_type": "markdown",
   "id": "6c023c8f",
   "metadata": {},
   "source": [
    "## [Optional] Visually Verify the Results\n",
    "\n",
    "If you installed the `geopandas` Python package, you can visually verify the\n",
    "output file by running the following cell."
   ]
  },
  {
   "cell_type": "code",
   "execution_count": null,
   "id": "bb44c359",
   "metadata": {},
   "outputs": [],
   "source": [
    "try:\n",
    "    import geopandas as gpd\n",
    "    import matplotlib.pyplot as plt\n",
    "except:\n",
    "    print(\n",
    "        \"If you wish to visually verify your output file, \"\n",
    "        \"you must install the `geopandas` package.\"\n",
    "    )\n",
    "else:\n",
    "    gedi_gdf = gpd.read_file(output_file)\n",
    "    agbd_colors = plt.cm.get_cmap(\"viridis_r\")\n",
    "    gedi_gdf.plot(column=\"agbd\", cmap=agbd_colors)"
   ]
  }
 ],
 "metadata": {
  "kernelspec": {
   "display_name": "Python 3 (ipykernel)",
   "language": "python",
   "name": "python3"
  },
  "language_info": {
   "codemirror_mode": {
    "name": "ipython",
    "version": 3
   },
   "file_extension": ".py",
   "mimetype": "text/x-python",
   "name": "python",
   "nbconvert_exporter": "python",
   "pygments_lexer": "ipython3",
   "version": "3.7.8"
  }
 },
 "nbformat": 4,
 "nbformat_minor": 5
}
